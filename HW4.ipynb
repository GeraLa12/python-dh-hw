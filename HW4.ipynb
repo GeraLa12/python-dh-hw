{
 "cells": [
  {
   "cell_type": "markdown",
   "metadata": {},
   "source": [
    "**Задание №1**\n",
    "\n",
    "- Скачайте из папки с домашними заданиями английский текст первой книги о Гарри Поттере. Он должен быть сохранен отдельным файлом.\n",
    "- Очистите текст от пунктуации, приведите его к нижнему регистру, лемматизируйте и запишите в новый файл. Проверьте, выполняется ли здесь закон Ципфа. Для этого постройте линейную диаграмму, где по оси Х будет ранг (порядковый номер) слова в отсортированном по убыванию частотном словаре, а по оси Y - относительная частота (абсолютная частота, разделенная на количество слов в тексте). Т.е. у самого частотного слова будет ранг 1, у второго по частоте -- 2 и т.д.\n",
    "- Очистите текст от стоп-слов. Постройте barplot для 30 самых частотных слов. Эти слова должны быть по оси Х в виде подписей к делениям. Значениями по этой оси будет ряд чисел от 0 до 30."
   ]
  },
  {
   "cell_type": "code",
   "execution_count": 1,
   "metadata": {
    "collapsed": true
   },
   "outputs": [],
   "source": [
    "import matplotlib\n",
    "import matplotlib.pyplot as plt\n",
    "import nltk\n",
    "import seaborn\n",
    "from collections import Counter\n",
    "from nltk import WordNetLemmatizer\n",
    "from nltk.tokenize import word_tokenize"
   ]
  },
  {
   "cell_type": "code",
   "execution_count": 4,
   "metadata": {
    "collapsed": true
   },
   "outputs": [],
   "source": [
    "f = open('Harry_Potter_and_the_Sorcerers_Stone.txt', 'r', encoding='utf-8')\n",
    "poem = f.read()\n",
    "f.close()"
   ]
  },
  {
   "cell_type": "code",
   "execution_count": 31,
   "metadata": {},
   "outputs": [
    {
     "name": "stdout",
     "output_type": "stream",
     "text": [
      "['up', 'the', 'road', 'he', 'watched', 'the', 'cat', 'in', 'his', 'mirror', 'It', 'was', 'now', 'reading', 'the', 'sign', 'that', 'said', 'Privet', 'Drive—no', 'looking', 'at', 'the', 'sign', 'cats', \"couldn't\", 'read', 'maps', 'or', 'signs', 'Mr', 'Dursley', 'gave', 'himself', 'a', 'little', 'shake', 'and', 'put', 'the', 'cat', 'out', 'of', 'his', 'mind', 'As', 'he', 'drove', 'toward', 'town', 'he', 'thought', 'of', 'nothing', 'except', 'a', 'large', 'order', 'of', 'drills', 'he', 'was', 'hoping', 'to', 'get', 'that', 'day', 'But', 'on', 'the', 'edge', 'of', 'town', 'drills', 'were', 'driven', 'out', 'of', 'his', 'mind', 'by', 'something', 'else', 'As', 'he', 'sat', 'in', 'the', 'usual', 'morning', 'traffic', 'jam', 'he', \"couldn't\", 'help', 'noticing', 'that', 'there', 'seemed', 'to']\n"
     ]
    }
   ],
   "source": [
    "# Очистите его от пунктуации \n",
    "from string import punctuation \n",
    "words = poem.split()\n",
    "no_punctuation = [w.strip(punctuation) for w in words]\n",
    "\n",
    "# убираем пунктуацию, которая не убралась в первый раз\n",
    "no_punctuation2 = [w.strip(\",»«.»!»?\") for w in no_punctuation] \n",
    "print (no_punctuation2 [500:600])"
   ]
  },
  {
   "cell_type": "code",
   "execution_count": 32,
   "metadata": {},
   "outputs": [
    {
     "name": "stdout",
     "output_type": "stream",
     "text": [
      "['up', 'the', 'road', 'he', 'watched', 'the', 'cat', 'in', 'his', 'mirror', 'it', 'was', 'now', 'reading', 'the', 'sign', 'that', 'said', 'privet', 'drive—no', 'looking', 'at', 'the', 'sign', 'cats', \"couldn't\", 'read', 'maps', 'or', 'signs', 'mr', 'dursley', 'gave', 'himself', 'a', 'little', 'shake', 'and', 'put', 'the', 'cat', 'out', 'of', 'his', 'mind', 'as', 'he', 'drove', 'toward', 'town', 'he', 'thought', 'of', 'nothing', 'except', 'a', 'large', 'order', 'of', 'drills', 'he', 'was', 'hoping', 'to', 'get', 'that', 'day', 'but', 'on', 'the', 'edge', 'of', 'town', 'drills', 'were', 'driven', 'out', 'of', 'his', 'mind', 'by', 'something', 'else', 'as', 'he', 'sat', 'in', 'the', 'usual', 'morning', 'traffic', 'jam', 'he', \"couldn't\", 'help', 'noticing', 'that', 'there', 'seemed', 'to']\n"
     ]
    }
   ],
   "source": [
    "#приводим к нижнему регистру\n",
    "low_words = ([ w if w.islower() else w.lower() for w in no_punctuation2]) \n",
    "print (low_words [500:600])"
   ]
  },
  {
   "cell_type": "code",
   "execution_count": 46,
   "metadata": {
    "collapsed": true
   },
   "outputs": [],
   "source": [
    "# лемматизируйте и запишите в новый файл\n",
    "poem_string = ' '.join(low_words)\n",
    "token_words = word_tokenize(poem_string)\n",
    "token_string = ' '.join(token_words)\n",
    "\n",
    "wnl = WordNetLemmatizer()\n",
    "lemmas = wnl.lemmatize(token_string)\n",
    "with open(\"Harry_lemmas.txt\", 'w', encoding='utf-8') as f: # записать результат в файл\n",
    "    f.write(lemmas)"
   ]
  },
  {
   "cell_type": "markdown",
   "metadata": {},
   "source": [
    "Проверьте, выполняется ли здесь закон Ципфа. Для этого постройте линейную диаграмму, где по оси Х будет ранг (порядковый номер) слова в отсортированном по убыванию частотном словаре, а по оси Y - относительная частота (абсолютная частота, разделенная на количество слов в тексте). Т.е. у самого частотного слова будет ранг 1, у второго по частоте -- 2 и т.д."
   ]
  },
  {
   "cell_type": "code",
   "execution_count": 13,
   "metadata": {
    "collapsed": true
   },
   "outputs": [],
   "source": [
    "f = open('Harry_lemmas.txt', 'r', encoding='utf-8')\n",
    "harry_lemmas = f.read()\n",
    "f.close()"
   ]
  },
  {
   "cell_type": "code",
   "execution_count": 14,
   "metadata": {
    "collapsed": true
   },
   "outputs": [],
   "source": [
    "from collections import Counter"
   ]
  },
  {
   "cell_type": "code",
   "execution_count": 15,
   "metadata": {
    "collapsed": true
   },
   "outputs": [],
   "source": [
    "# считаем абсолютную частоту лемм \n",
    "harry_lemmatized = harry_lemmas.split()\n",
    "count_harry = Counter(harry_lemmatized)"
   ]
  },
  {
   "cell_type": "code",
   "execution_count": 16,
   "metadata": {},
   "outputs": [
    {
     "name": "stdout",
     "output_type": "stream",
     "text": [
      "[('the', 3603), ('and', 1868), ('to', 1845), ('he', 1714), ('a', 1667), ('harry', 1305), ('was', 1257), ('of', 1255), ('it', 1137), (\"'s\", 995), ('you', 975), ('in', 957), ('his', 935), ('i', 859), (\"n't\", 827), ('said', 794), ('had', 756), ('they', 677), ('that', 670), ('on', 631)]\n"
     ]
    }
   ],
   "source": [
    "# создаем частотный словарь\n",
    "harry_freq = {}\n",
    "\n",
    "for k, v in count_harry.items():\n",
    "    harry_freq[k] = v\n",
    "    \n",
    "# сортируем по убыванию\n",
    "sorted_counts = sorted(harry_freq.items(), key=lambda x: x[1], reverse=True)\n",
    "\n",
    "print(sorted_counts[:20])"
   ]
  },
  {
   "cell_type": "code",
   "execution_count": 17,
   "metadata": {
    "collapsed": true
   },
   "outputs": [],
   "source": [
    "# считаем относительную частоту \n",
    "harry_rel_freq = {} \n",
    "\n",
    "for k,v in count_harry.items():\n",
    "    harry_rel_freq[k] = v / len(harry_lemmatized) "
   ]
  },
  {
   "cell_type": "code",
   "execution_count": null,
   "metadata": {
    "collapsed": true
   },
   "outputs": [],
   "source": [
    "# компьютер виснет, если пытаюсь запустить эту ячейку. Леммы на пустые строки я проверила. \n",
    "\n",
    "X = []\n",
    "Y = []\n",
    "length = len(harry_lemmatized)\n",
    "\n",
    "for word in sorted_counts:\n",
    "    harry_abs_freq = word[1]\n",
    "    X.append(harry_abs_freq)\n",
    "    Y.append(harry_rel_freq)\n",
    "    \n",
    "plt.plot(X, Y, c='blue', linestyle='-', linewidth=3)\n",
    "plt.title('Закон Ципфа')\n",
    "plt.xlabel('Номер слова')\n",
    "plt.ylabel('Относительная частота')\n",
    "plt.show()"
   ]
  },
  {
   "cell_type": "markdown",
   "metadata": {},
   "source": [
    "Очистите текст от стоп-слов. Постройте barplot для 30 самых частотных слов. Эти слова должны быть по оси Х в виде подписей к делениям. Значениями по этой оси будет ряд чисел от 0 до 30."
   ]
  },
  {
   "cell_type": "code",
   "execution_count": 8,
   "metadata": {
    "collapsed": true
   },
   "outputs": [],
   "source": [
    "from nltk.corpus import stopwords\n",
    "sw = stopwords.words('english')"
   ]
  },
  {
   "cell_type": "code",
   "execution_count": 9,
   "metadata": {},
   "outputs": [
    {
     "name": "stdout",
     "output_type": "stream",
     "text": [
      "['chapter', 'one', 'boy', 'lived', 'mr', 'mrs', 'dursley', 'number', 'four', 'privet', 'drive', 'proud', 'say', 'perfectly', 'normal', 'thank', 'much', 'last', 'people', \"'d\"]\n"
     ]
    }
   ],
   "source": [
    "filtered_harry = [w for w in harry_lemmatized if w not in sw]\n",
    "print(filtered_harry[:20])"
   ]
  },
  {
   "cell_type": "code",
   "execution_count": 10,
   "metadata": {},
   "outputs": [
    {
     "name": "stdout",
     "output_type": "stream",
     "text": [
      "[('harry', 1305), (\"'s\", 995), (\"n't\", 827), ('said', 794), ('ron', 427), ('hagrid', 366), ('could', 301), (\"'d\", 267), ('hermione', 267), ('back', 257), ('one', 250), ('got', 204), ('get', 192), ('like', 188), ('know', 185), ('see', 177), (\"'ve\", 176), ('professor', 172), ('looked', 169), ('snape', 167)]\n"
     ]
    }
   ],
   "source": [
    "# ищем самые частотные слова\n",
    "\n",
    "# создаем частотный словарь\n",
    "harry_freq_clean = {}\n",
    "counts_clean_harry = Counter(filtered_harry)\n",
    "for k, v in counts_clean_harry.items():\n",
    "    harry_freq_clean[k] = v\n",
    "    \n",
    "# сортируем по убыванию\n",
    "sorted_counts_clean = sorted(harry_freq_clean.items(), key=lambda x: x[1], reverse=True)\n",
    "\n",
    "# 20 самых частотных по этому параметру слов \n",
    "print(sorted_counts_clean[:20])"
   ]
  },
  {
   "cell_type": "code",
   "execution_count": 12,
   "metadata": {},
   "outputs": [
    {
     "data": {
      "image/png": "[encoded data removed]",
      "text/plain": [
       "<matplotlib.figure.Figure at 0x20aa9c98f28>"
      ]
     },
     "metadata": {},
     "output_type": "display_data"
    }
   ],
   "source": [
    "A = range(30)\n",
    "\n",
    "for word in sorted_counts_clean:\n",
    "        harry_freq = word[1]\n",
    "        B.append(word[1])\n",
    "for word in sorted_counts_clean:\n",
    "        lables = word[0]\n",
    "        C.append(word[0])\n",
    "    \n",
    "plt.bar(A, B[:30])\n",
    "plt.title(\"30 самых частотных слов в Гарри Поттере\")\n",
    "plt.xlabel(\"Слова\")\n",
    "plt.ylabel(\"Частотность\")\n",
    "plt.xticks(A, C [:30], rotation=90)\n",
    "plt.show()"
   ]
  }
 ],
 "metadata": {
  "kernelspec": {
   "display_name": "Python 3",
   "language": "python",
   "name": "python3"
  },
  "language_info": {
   "codemirror_mode": {
    "name": "ipython",
    "version": 3
   },
   "file_extension": ".py",
   "mimetype": "text/x-python",
   "name": "python",
   "nbconvert_exporter": "python",
   "pygments_lexer": "ipython3",
   "version": "3.6.3"
  }
 },
 "nbformat": 4,
 "nbformat_minor": 2
}
